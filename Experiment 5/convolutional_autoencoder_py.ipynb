{
  "nbformat": 4,
  "nbformat_minor": 0,
  "metadata": {
    "colab": {
      "name": "convolutional_autoencoder.py.ipynb",
      "provenance": []
    },
    "kernelspec": {
      "name": "python3",
      "display_name": "Python 3"
    },
    "language_info": {
      "name": "python"
    }
  },
  "cells": [
    {
      "cell_type": "code",
      "execution_count": 15,
      "metadata": {
        "id": "vybO72UCTnkJ"
      },
      "outputs": [],
      "source": [
        "import os\n",
        "os.environ[\"TF_CPP_MIN_LOG_LEVEL\"] = \"2\""
      ]
    },
    {
      "cell_type": "code",
      "source": [
        "import numpy as np\n",
        "import matplotlib.pyplot as plt\n",
        "import tensorflow as tf\n",
        "from tensorflow.keras.layers import Input, Dense, Conv2D, Activation, MaxPool2D\n",
        "from tensorflow.keras.layers import BatchNormalization, Flatten, Reshape, Conv2DTranspose, LeakyReLU\n",
        "from tensorflow.keras.models import Model\n",
        "from tensorflow.keras.optimizers import Adam, SGD\n",
        "print(\"\")"
      ],
      "metadata": {
        "colab": {
          "base_uri": "https://localhost:8080/"
        },
        "id": "zjUp57-7Tu_p",
        "outputId": "9a5dae73-07d4-453b-d426-fdc0802cc73a"
      },
      "execution_count": 16,
      "outputs": [
        {
          "output_type": "stream",
          "name": "stdout",
          "text": [
            "\n"
          ]
        }
      ]
    },
    {
      "cell_type": "code",
      "source": [
        "## Seeding\n",
        "np.random.seed(42)\n",
        "tf.random.set_seed(42)"
      ],
      "metadata": {
        "id": "J2q9Ta13TvDW"
      },
      "execution_count": 17,
      "outputs": []
    },
    {
      "cell_type": "code",
      "source": [
        "## Loading the dataset and then normalizing the images.\n",
        "dataset = tf.keras.datasets.fashion_mnist\n",
        "(x_train, y_train),(x_test, y_test) = dataset.load_data()\n",
        "x_train, x_test = x_train / 255.0, x_test / 255.0"
      ],
      "metadata": {
        "id": "JbJkKABXTvFa"
      },
      "execution_count": 18,
      "outputs": []
    },
    {
      "cell_type": "code",
      "source": [
        "## Hyperparameters\n",
        "H = 28\n",
        "W = 28\n",
        "C = 1\n"
      ],
      "metadata": {
        "id": "ALyX1i4ITvG8"
      },
      "execution_count": 19,
      "outputs": []
    },
    {
      "cell_type": "code",
      "source": [
        "## Latent space\n",
        "latent_dim = 128\n"
      ],
      "metadata": {
        "id": "UJPIxrOLTvJc"
      },
      "execution_count": 20,
      "outputs": []
    },
    {
      "cell_type": "code",
      "source": [
        "## Building the autoencoder\n",
        "inputs = Input(shape=(H, W, C), name=\"inputs\")\n",
        "x = inputs"
      ],
      "metadata": {
        "id": "amPoevJqTvL3"
      },
      "execution_count": 21,
      "outputs": []
    },
    {
      "cell_type": "code",
      "source": [
        "x = Conv2D(32, (3, 3), padding=\"same\")(x)\n",
        "x = BatchNormalization()(x)\n",
        "x = LeakyReLU(alpha=0.2)(x)\n",
        "x = MaxPool2D((2, 2))(x)\n"
      ],
      "metadata": {
        "id": "E_EWCAqbTvPZ"
      },
      "execution_count": 22,
      "outputs": []
    },
    {
      "cell_type": "code",
      "source": [
        "x = Conv2D(64, (3, 3), padding=\"same\")(x)\n",
        "x = BatchNormalization()(x)\n",
        "x = LeakyReLU(alpha=0.2)(x)\n",
        "x = MaxPool2D((2, 2))(x)"
      ],
      "metadata": {
        "id": "aAwXGJBhUHOz"
      },
      "execution_count": 23,
      "outputs": []
    },
    {
      "cell_type": "code",
      "source": [
        "x = Flatten()(x)\n",
        "units = x.shape[1]\n",
        "x = Dense(latent_dim, name=\"latent\")(x)\n",
        "x = Dense(units)(x)\n",
        "x = LeakyReLU(alpha=0.2)(x)\n",
        "x = Reshape((7, 7, 64))(x)"
      ],
      "metadata": {
        "id": "gkME0Wt_UHSS"
      },
      "execution_count": 24,
      "outputs": []
    },
    {
      "cell_type": "code",
      "source": [
        "x = Conv2DTranspose(64, (3, 3), strides=2, padding=\"same\")(x)\n",
        "x = BatchNormalization()(x)\n",
        "x = LeakyReLU(alpha=0.2)(x)"
      ],
      "metadata": {
        "id": "5LOb2mhOU0V0"
      },
      "execution_count": 25,
      "outputs": []
    },
    {
      "cell_type": "code",
      "source": [
        "x = Conv2DTranspose(1, (3, 3), strides=2, padding=\"same\")(x)\n",
        "x = BatchNormalization()(x)\n",
        "x = Activation(\"sigmoid\", name=\"outputs\")(x)"
      ],
      "metadata": {
        "id": "76GJmc2MU0Zo"
      },
      "execution_count": 26,
      "outputs": []
    },
    {
      "cell_type": "code",
      "source": [
        "outputs = x"
      ],
      "metadata": {
        "id": "m2AgvHv-U0dv"
      },
      "execution_count": 27,
      "outputs": []
    },
    {
      "cell_type": "code",
      "source": [
        "autoencoder = Model(inputs, outputs)\n",
        "autoencoder.compile(optimizer=Adam(1e-3), loss='binary_crossentropy')\n",
        "autoencoder.summary()\n"
      ],
      "metadata": {
        "colab": {
          "base_uri": "https://localhost:8080/"
        },
        "id": "DEtxtOUJU0fW",
        "outputId": "db1cbba1-c308-449f-ed75-2dee4ab249bc"
      },
      "execution_count": 28,
      "outputs": [
        {
          "output_type": "stream",
          "name": "stdout",
          "text": [
            "Model: \"model\"\n",
            "_________________________________________________________________\n",
            " Layer (type)                Output Shape              Param #   \n",
            "=================================================================\n",
            " inputs (InputLayer)         [(None, 28, 28, 1)]       0         \n",
            "                                                                 \n",
            " conv2d_6 (Conv2D)           (None, 28, 28, 32)        320       \n",
            "                                                                 \n",
            " batch_normalization_1 (Batc  (None, 28, 28, 32)       128       \n",
            " hNormalization)                                                 \n",
            "                                                                 \n",
            " leaky_re_lu_2 (LeakyReLU)   (None, 28, 28, 32)        0         \n",
            "                                                                 \n",
            " max_pooling2d_1 (MaxPooling  (None, 14, 14, 32)       0         \n",
            " 2D)                                                             \n",
            "                                                                 \n",
            " conv2d_7 (Conv2D)           (None, 14, 14, 64)        18496     \n",
            "                                                                 \n",
            " batch_normalization_2 (Batc  (None, 14, 14, 64)       256       \n",
            " hNormalization)                                                 \n",
            "                                                                 \n",
            " leaky_re_lu_3 (LeakyReLU)   (None, 14, 14, 64)        0         \n",
            "                                                                 \n",
            " max_pooling2d_2 (MaxPooling  (None, 7, 7, 64)         0         \n",
            " 2D)                                                             \n",
            "                                                                 \n",
            " flatten_1 (Flatten)         (None, 3136)              0         \n",
            "                                                                 \n",
            " latent (Dense)              (None, 128)               401536    \n",
            "                                                                 \n",
            " dense_1 (Dense)             (None, 3136)              404544    \n",
            "                                                                 \n",
            " leaky_re_lu_4 (LeakyReLU)   (None, 3136)              0         \n",
            "                                                                 \n",
            " reshape_1 (Reshape)         (None, 7, 7, 64)          0         \n",
            "                                                                 \n",
            " conv2d_transpose (Conv2DTra  (None, 14, 14, 64)       36928     \n",
            " nspose)                                                         \n",
            "                                                                 \n",
            " batch_normalization_3 (Batc  (None, 14, 14, 64)       256       \n",
            " hNormalization)                                                 \n",
            "                                                                 \n",
            " leaky_re_lu_5 (LeakyReLU)   (None, 14, 14, 64)        0         \n",
            "                                                                 \n",
            " conv2d_transpose_1 (Conv2DT  (None, 28, 28, 1)        577       \n",
            " ranspose)                                                       \n",
            "                                                                 \n",
            " batch_normalization_4 (Batc  (None, 28, 28, 1)        4         \n",
            " hNormalization)                                                 \n",
            "                                                                 \n",
            " outputs (Activation)        (None, 28, 28, 1)         0         \n",
            "                                                                 \n",
            "=================================================================\n",
            "Total params: 863,045\n",
            "Trainable params: 862,723\n",
            "Non-trainable params: 322\n",
            "_________________________________________________________________\n"
          ]
        }
      ]
    },
    {
      "cell_type": "code",
      "source": [
        "print(x_train.shape, x_test.shape)"
      ],
      "metadata": {
        "colab": {
          "base_uri": "https://localhost:8080/"
        },
        "id": "R5ikt5w6U0hL",
        "outputId": "48622795-9d4c-4065-977a-affafd697e27"
      },
      "execution_count": 29,
      "outputs": [
        {
          "output_type": "stream",
          "name": "stdout",
          "text": [
            "(60000, 28, 28) (10000, 28, 28)\n"
          ]
        }
      ]
    },
    {
      "cell_type": "code",
      "source": [
        "autoencoder.fit(\n",
        "    x_train,\n",
        "    x_train,\n",
        "    epochs=20,\n",
        "    batch_size=256,\n",
        "    shuffle=False,\n",
        "    validation_data=(x_test, x_test)\n",
        ")"
      ],
      "metadata": {
        "colab": {
          "base_uri": "https://localhost:8080/"
        },
        "id": "_XPGO8mwVDxE",
        "outputId": "992c410f-e82a-4f0e-efbb-d7a4740af729"
      },
      "execution_count": 30,
      "outputs": [
        {
          "output_type": "stream",
          "name": "stdout",
          "text": [
            "Epoch 1/20\n",
            "235/235 [==============================] - 149s 628ms/step - loss: 0.4641 - val_loss: 0.5116\n",
            "Epoch 2/20\n",
            "235/235 [==============================] - 137s 585ms/step - loss: 0.3890 - val_loss: 0.3912\n",
            "Epoch 3/20\n",
            "235/235 [==============================] - 137s 583ms/step - loss: 0.3511 - val_loss: 0.3497\n",
            "Epoch 4/20\n",
            "235/235 [==============================] - 137s 581ms/step - loss: 0.3266 - val_loss: 0.3250\n",
            "Epoch 5/20\n",
            "235/235 [==============================] - 136s 580ms/step - loss: 0.3098 - val_loss: 0.3060\n",
            "Epoch 6/20\n",
            "235/235 [==============================] - 137s 581ms/step - loss: 0.2978 - val_loss: 0.2967\n",
            "Epoch 7/20\n",
            "235/235 [==============================] - 135s 574ms/step - loss: 0.2889 - val_loss: 0.2883\n",
            "Epoch 8/20\n",
            "235/235 [==============================] - 136s 578ms/step - loss: 0.2821 - val_loss: 0.2803\n",
            "Epoch 9/20\n",
            "235/235 [==============================] - 134s 572ms/step - loss: 0.2768 - val_loss: 0.2767\n",
            "Epoch 10/20\n",
            "235/235 [==============================] - 136s 578ms/step - loss: 0.2727 - val_loss: 0.2733\n",
            "Epoch 11/20\n",
            "235/235 [==============================] - 134s 572ms/step - loss: 0.2694 - val_loss: 0.2698\n",
            "Epoch 12/20\n",
            "235/235 [==============================] - 135s 574ms/step - loss: 0.2667 - val_loss: 0.2672\n",
            "Epoch 13/20\n",
            "235/235 [==============================] - 134s 571ms/step - loss: 0.2644 - val_loss: 0.2660\n",
            "Epoch 14/20\n",
            "235/235 [==============================] - 135s 574ms/step - loss: 0.2626 - val_loss: 0.2645\n",
            "Epoch 15/20\n",
            "235/235 [==============================] - 134s 571ms/step - loss: 0.2610 - val_loss: 0.2627\n",
            "Epoch 16/20\n",
            "235/235 [==============================] - 135s 574ms/step - loss: 0.2598 - val_loss: 0.2629\n",
            "Epoch 17/20\n",
            "235/235 [==============================] - 135s 576ms/step - loss: 0.2588 - val_loss: 0.2604\n",
            "Epoch 18/20\n",
            "235/235 [==============================] - 135s 576ms/step - loss: 0.2578 - val_loss: 0.2609\n",
            "Epoch 19/20\n",
            "235/235 [==============================] - 136s 578ms/step - loss: 0.2570 - val_loss: 0.2591\n",
            "Epoch 20/20\n",
            "235/235 [==============================] - 136s 580ms/step - loss: 0.2563 - val_loss: 0.2588\n"
          ]
        },
        {
          "output_type": "execute_result",
          "data": {
            "text/plain": [
              "<keras.callbacks.History at 0x7f8211b24b50>"
            ]
          },
          "metadata": {},
          "execution_count": 30
        }
      ]
    },
    {
      "cell_type": "code",
      "source": [
        "test_pred_y = autoencoder.predict(x_test)"
      ],
      "metadata": {
        "id": "eIc0VsBDVD00"
      },
      "execution_count": 31,
      "outputs": []
    },
    {
      "cell_type": "code",
      "source": [
        "n = 10  ## how many digits we will display\n",
        "plt.figure(figsize=(20, 4))\n",
        "for i in range(n):\n",
        "    ## display original\n",
        "    ax = plt.subplot(2, n, i + 1)\n",
        "    ax.set_title(\"Original Image\")\n",
        "    plt.imshow(x_test[i].reshape(H, W))\n",
        "    plt.gray()\n",
        "    ax.get_xaxis().set_visible(False)\n",
        "    ax.get_yaxis().set_visible(False)"
      ],
      "metadata": {
        "colab": {
          "base_uri": "https://localhost:8080/",
          "height": 124
        },
        "id": "vJJHwO9kVD4y",
        "outputId": "790e7591-83c3-42d0-93f8-a194b06bb350"
      },
      "execution_count": 32,
      "outputs": [
        {
          "output_type": "display_data",
          "data": {
            "text/plain": [
              "<Figure size 1440x288 with 10 Axes>"
            ],
            "image/png": "[encoded data removed]"
          },
          "metadata": {
            "needs_background": "light"
          }
        }
      ]
    },
    {
      "cell_type": "code",
      "source": [
        "  ## display reconstruction\n",
        "ax = plt.subplot(2, n, i + 1 + n)\n",
        "ax.set_title(\"Predicted Image\")\n",
        "plt.imshow(test_pred_y[i].reshape(H, W))\n",
        "plt.gray()\n",
        "ax.get_xaxis().set_visible(False)\n",
        "ax.get_yaxis().set_visible(False)\n",
        "plt.savefig(\"/content/convolutonal_autoencoder.png\")"
      ],
      "metadata": {
        "colab": {
          "base_uri": "https://localhost:8080/",
          "height": 79
        },
        "id": "bv-GwKWUVD7K",
        "outputId": "ef5fe326-782d-472b-9b77-b583389ea525"
      },
      "execution_count": 33,
      "outputs": [
        {
          "output_type": "display_data",
          "data": {
            "text/plain": [
              "<Figure size 432x288 with 1 Axes>"
            ],
            "image/png": "[encoded data removed]"
          },
          "metadata": {
            "needs_background": "light"
          }
        }
      ]
    }
  ]
}