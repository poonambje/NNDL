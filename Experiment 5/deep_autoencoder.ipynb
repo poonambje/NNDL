{
  "nbformat": 4,
  "nbformat_minor": 0,
  "metadata": {
    "colab": {
      "name": "deep_autoencoder.ipynb",
      "provenance": []
    },
    "kernelspec": {
      "name": "python3",
      "display_name": "Python 3"
    },
    "language_info": {
      "name": "python"
    }
  },
  "cells": [
    {
      "cell_type": "code",
      "execution_count": 1,
      "metadata": {
        "id": "nNIoZTr5O6Qe"
      },
      "outputs": [],
      "source": [
        "import os\n",
        "os.environ[\"TF_CPP_MIN_LOG_LEVEL\"] = \"2\"\n"
      ]
    },
    {
      "cell_type": "code",
      "source": [
        "import numpy as np\n",
        "import matplotlib.pyplot as plt\n",
        "import tensorflow as tf\n",
        "from tensorflow.keras.layers import Input, Dense\n",
        "from tensorflow.keras.models import Model\n",
        "from tensorflow.keras.optimizers import Adam\n",
        "print(\"\")"
      ],
      "metadata": {
        "colab": {
          "base_uri": "https://localhost:8080/"
        },
        "id": "4GELmSMDPCtN",
        "outputId": "bc8c265d-0e37-4258-a615-c3110f1a65b2"
      },
      "execution_count": 2,
      "outputs": [
        {
          "output_type": "stream",
          "name": "stdout",
          "text": [
            "\n"
          ]
        }
      ]
    },
    {
      "cell_type": "code",
      "source": [
        "## Seeding\n",
        "np.random.seed(42)\n",
        "tf.random.set_seed(42)"
      ],
      "metadata": {
        "id": "RuVSqK7cPCwX"
      },
      "execution_count": 3,
      "outputs": []
    },
    {
      "cell_type": "code",
      "source": [
        "## Loading the MNIST dataset and then normalizing the images.\n",
        "dataset = tf.keras.datasets.mnist\n",
        "(x_train, y_train),(x_test, y_test) = dataset.load_data()\n",
        "x_train, x_test = x_train / 255.0, x_test / 255.0"
      ],
      "metadata": {
        "colab": {
          "base_uri": "https://localhost:8080/"
        },
        "id": "zUMI2UxmPCyw",
        "outputId": "31b56c27-9989-4b2e-8054-fa85c4205202"
      },
      "execution_count": 4,
      "outputs": [
        {
          "output_type": "stream",
          "name": "stdout",
          "text": [
            "Downloading data from https://storage.googleapis.com/tensorflow/tf-keras-datasets/mnist.npz\n",
            "11493376/11490434 [==============================] - 0s 0us/step\n",
            "11501568/11490434 [==============================] - 0s 0us/step\n"
          ]
        }
      ]
    },
    {
      "cell_type": "code",
      "source": [
        "H = 28\n",
        "W = 28\n",
        "C = 1"
      ],
      "metadata": {
        "id": "B5vDD5rlPC1d"
      },
      "execution_count": 5,
      "outputs": []
    },
    {
      "cell_type": "code",
      "source": [
        "## Flattening the images.\n",
        "x_train = np.reshape(x_train, (-1, H * W * C))\n",
        "x_test = np.reshape(x_test, (-1, H * W * C))\n",
        "print(x_train.shape, x_test.shape)"
      ],
      "metadata": {
        "colab": {
          "base_uri": "https://localhost:8080/"
        },
        "id": "7ZqdddENPC46",
        "outputId": "2b54cc20-db32-4f91-87f5-f1ae9caa404f"
      },
      "execution_count": 6,
      "outputs": [
        {
          "output_type": "stream",
          "name": "stdout",
          "text": [
            "(60000, 784) (10000, 784)\n"
          ]
        }
      ]
    },
    {
      "cell_type": "code",
      "source": [
        "## Latent space\n",
        "latent_dim = 32"
      ],
      "metadata": {
        "id": "jwHAXchxQuRY"
      },
      "execution_count": 7,
      "outputs": []
    },
    {
      "cell_type": "code",
      "source": [
        "## Building the autoencoder\n",
        "inputs = Input(shape=(H*W*C,))\n",
        "e = Dense(256, activation=\"relu\")(inputs)\n",
        "h = Dense(latent_dim, activation=\"relu\")(e)\n",
        "d = Dense(256, activation=\"relu\")(h)\n",
        "outputs = Dense(H*W*C, activation=\"sigmoid\")(d)"
      ],
      "metadata": {
        "id": "WCi0zpZtQuWS"
      },
      "execution_count": 8,
      "outputs": []
    },
    {
      "cell_type": "code",
      "source": [
        "autoencoder = Model(inputs, outputs)\n",
        "autoencoder.compile(optimizer=Adam(1e-3), loss='binary_crossentropy')\n",
        "autoencoder.summary()"
      ],
      "metadata": {
        "colab": {
          "base_uri": "https://localhost:8080/"
        },
        "id": "Nq5XHVYMQuaj",
        "outputId": "2af9e5ed-9477-4454-b62f-290b004aaea1"
      },
      "execution_count": 9,
      "outputs": [
        {
          "output_type": "stream",
          "name": "stdout",
          "text": [
            "Model: \"model\"\n",
            "_________________________________________________________________\n",
            " Layer (type)                Output Shape              Param #   \n",
            "=================================================================\n",
            " input_1 (InputLayer)        [(None, 784)]             0         \n",
            "                                                                 \n",
            " dense (Dense)               (None, 256)               200960    \n",
            "                                                                 \n",
            " dense_1 (Dense)             (None, 32)                8224      \n",
            "                                                                 \n",
            " dense_2 (Dense)             (None, 256)               8448      \n",
            "                                                                 \n",
            " dense_3 (Dense)             (None, 784)               201488    \n",
            "                                                                 \n",
            "=================================================================\n",
            "Total params: 419,120\n",
            "Trainable params: 419,120\n",
            "Non-trainable params: 0\n",
            "_________________________________________________________________\n"
          ]
        }
      ]
    },
    {
      "cell_type": "code",
      "source": [
        "## Training the autoencoder\n",
        "autoencoder.fit(\n",
        "    x_train,\n",
        "    x_train,\n",
        "    epochs=50,\n",
        "    batch_size=256,\n",
        "    shuffle=False,\n",
        "    validation_data=(x_test, x_test)\n",
        ")"
      ],
      "metadata": {
        "colab": {
          "base_uri": "https://localhost:8080/"
        },
        "id": "Aww-tlU7Q4-T",
        "outputId": "c954c67e-ac66-4554-f0d7-fd4e1e8691e2"
      },
      "execution_count": 10,
      "outputs": [
        {
          "output_type": "stream",
          "name": "stdout",
          "text": [
            "Epoch 1/50\n",
            "235/235 [==============================] - 6s 24ms/step - loss: 0.2201 - val_loss: 0.1520\n",
            "Epoch 2/50\n",
            "235/235 [==============================] - 6s 24ms/step - loss: 0.1324 - val_loss: 0.1166\n",
            "Epoch 3/50\n",
            "235/235 [==============================] - 5s 23ms/step - loss: 0.1116 - val_loss: 0.1053\n",
            "Epoch 4/50\n",
            "235/235 [==============================] - 5s 23ms/step - loss: 0.1030 - val_loss: 0.0991\n",
            "Epoch 5/50\n",
            "235/235 [==============================] - 5s 23ms/step - loss: 0.0983 - val_loss: 0.0958\n",
            "Epoch 6/50\n",
            "235/235 [==============================] - 5s 22ms/step - loss: 0.0954 - val_loss: 0.0936\n",
            "Epoch 7/50\n",
            "235/235 [==============================] - 5s 23ms/step - loss: 0.0933 - val_loss: 0.0919\n",
            "Epoch 8/50\n",
            "235/235 [==============================] - 5s 23ms/step - loss: 0.0917 - val_loss: 0.0905\n",
            "Epoch 9/50\n",
            "235/235 [==============================] - 5s 22ms/step - loss: 0.0904 - val_loss: 0.0894\n",
            "Epoch 10/50\n",
            "235/235 [==============================] - 5s 23ms/step - loss: 0.0893 - val_loss: 0.0883\n",
            "Epoch 11/50\n",
            "235/235 [==============================] - 5s 23ms/step - loss: 0.0883 - val_loss: 0.0873\n",
            "Epoch 12/50\n",
            "235/235 [==============================] - 5s 23ms/step - loss: 0.0875 - val_loss: 0.0866\n",
            "Epoch 13/50\n",
            "235/235 [==============================] - 5s 23ms/step - loss: 0.0867 - val_loss: 0.0860\n",
            "Epoch 14/50\n",
            "235/235 [==============================] - 5s 23ms/step - loss: 0.0861 - val_loss: 0.0854\n",
            "Epoch 15/50\n",
            "235/235 [==============================] - 5s 23ms/step - loss: 0.0855 - val_loss: 0.0850\n",
            "Epoch 16/50\n",
            "235/235 [==============================] - 5s 23ms/step - loss: 0.0850 - val_loss: 0.0846\n",
            "Epoch 17/50\n",
            "235/235 [==============================] - 5s 22ms/step - loss: 0.0845 - val_loss: 0.0843\n",
            "Epoch 18/50\n",
            "235/235 [==============================] - 5s 23ms/step - loss: 0.0841 - val_loss: 0.0840\n",
            "Epoch 19/50\n",
            "235/235 [==============================] - 5s 22ms/step - loss: 0.0837 - val_loss: 0.0837\n",
            "Epoch 20/50\n",
            "235/235 [==============================] - 5s 22ms/step - loss: 0.0834 - val_loss: 0.0833\n",
            "Epoch 21/50\n",
            "235/235 [==============================] - 5s 23ms/step - loss: 0.0830 - val_loss: 0.0830\n",
            "Epoch 22/50\n",
            "235/235 [==============================] - 5s 23ms/step - loss: 0.0827 - val_loss: 0.0827\n",
            "Epoch 23/50\n",
            "235/235 [==============================] - 5s 22ms/step - loss: 0.0824 - val_loss: 0.0825\n",
            "Epoch 24/50\n",
            "235/235 [==============================] - 5s 23ms/step - loss: 0.0822 - val_loss: 0.0822\n",
            "Epoch 25/50\n",
            "235/235 [==============================] - 5s 23ms/step - loss: 0.0819 - val_loss: 0.0820\n",
            "Epoch 26/50\n",
            "235/235 [==============================] - 5s 23ms/step - loss: 0.0817 - val_loss: 0.0817\n",
            "Epoch 27/50\n",
            "235/235 [==============================] - 5s 23ms/step - loss: 0.0814 - val_loss: 0.0815\n",
            "Epoch 28/50\n",
            "235/235 [==============================] - 5s 23ms/step - loss: 0.0812 - val_loss: 0.0813\n",
            "Epoch 29/50\n",
            "235/235 [==============================] - 5s 23ms/step - loss: 0.0810 - val_loss: 0.0812\n",
            "Epoch 30/50\n",
            "235/235 [==============================] - 5s 23ms/step - loss: 0.0808 - val_loss: 0.0811\n",
            "Epoch 31/50\n",
            "235/235 [==============================] - 5s 22ms/step - loss: 0.0807 - val_loss: 0.0809\n",
            "Epoch 32/50\n",
            "235/235 [==============================] - 5s 23ms/step - loss: 0.0805 - val_loss: 0.0808\n",
            "Epoch 33/50\n",
            "235/235 [==============================] - 5s 23ms/step - loss: 0.0803 - val_loss: 0.0806\n",
            "Epoch 34/50\n",
            "235/235 [==============================] - 5s 22ms/step - loss: 0.0802 - val_loss: 0.0805\n",
            "Epoch 35/50\n",
            "235/235 [==============================] - 5s 23ms/step - loss: 0.0800 - val_loss: 0.0804\n",
            "Epoch 36/50\n",
            "235/235 [==============================] - 5s 23ms/step - loss: 0.0798 - val_loss: 0.0801\n",
            "Epoch 37/50\n",
            "235/235 [==============================] - 5s 23ms/step - loss: 0.0796 - val_loss: 0.0799\n",
            "Epoch 38/50\n",
            "235/235 [==============================] - 5s 22ms/step - loss: 0.0794 - val_loss: 0.0798\n",
            "Epoch 39/50\n",
            "235/235 [==============================] - 5s 23ms/step - loss: 0.0793 - val_loss: 0.0797\n",
            "Epoch 40/50\n",
            "235/235 [==============================] - 5s 23ms/step - loss: 0.0791 - val_loss: 0.0795\n",
            "Epoch 41/50\n",
            "235/235 [==============================] - 5s 22ms/step - loss: 0.0790 - val_loss: 0.0794\n",
            "Epoch 42/50\n",
            "235/235 [==============================] - 5s 22ms/step - loss: 0.0789 - val_loss: 0.0793\n",
            "Epoch 43/50\n",
            "235/235 [==============================] - 5s 22ms/step - loss: 0.0787 - val_loss: 0.0792\n",
            "Epoch 44/50\n",
            "235/235 [==============================] - 5s 22ms/step - loss: 0.0786 - val_loss: 0.0790\n",
            "Epoch 45/50\n",
            "235/235 [==============================] - 5s 23ms/step - loss: 0.0785 - val_loss: 0.0789\n",
            "Epoch 46/50\n",
            "235/235 [==============================] - 5s 23ms/step - loss: 0.0784 - val_loss: 0.0788\n",
            "Epoch 47/50\n",
            "235/235 [==============================] - 5s 22ms/step - loss: 0.0783 - val_loss: 0.0787\n",
            "Epoch 48/50\n",
            "235/235 [==============================] - 5s 23ms/step - loss: 0.0782 - val_loss: 0.0786\n",
            "Epoch 49/50\n",
            "235/235 [==============================] - 5s 23ms/step - loss: 0.0781 - val_loss: 0.0785\n",
            "Epoch 50/50\n",
            "235/235 [==============================] - 5s 23ms/step - loss: 0.0781 - val_loss: 0.0784\n"
          ]
        },
        {
          "output_type": "execute_result",
          "data": {
            "text/plain": [
              "<keras.callbacks.History at 0x7f7efe22c750>"
            ]
          },
          "metadata": {},
          "execution_count": 10
        }
      ]
    },
    {
      "cell_type": "code",
      "source": [
        "test_pred_y = autoencoder.predict(x_test)"
      ],
      "metadata": {
        "id": "xYGjwMIdQ5C8"
      },
      "execution_count": 11,
      "outputs": []
    },
    {
      "cell_type": "code",
      "source": [
        "n = 10  ## how many digits we will display\n",
        "plt.figure(figsize=(20, 4))\n",
        "for i in range(n):\n",
        "    ## display original\n",
        "    ax = plt.subplot(2, n, i + 1)\n",
        "    ax.set_title(\"Original Image\")\n",
        "    plt.imshow(x_test[i].reshape(H, W))\n",
        "    plt.gray()\n",
        "    ax.get_xaxis().set_visible(False)\n",
        "    ax.get_yaxis().set_visible(False)"
      ],
      "metadata": {
        "colab": {
          "base_uri": "https://localhost:8080/",
          "height": 124
        },
        "id": "jOCHXUF5Q5IN",
        "outputId": "d0e907e4-00ca-4b25-964c-7ec8b8c8ec89"
      },
      "execution_count": 12,
      "outputs": [
        {
          "output_type": "display_data",
          "data": {
            "text/plain": [
              "<Figure size 1440x288 with 10 Axes>"
            ],
            "image/png": "[encoded data removed]"
          },
          "metadata": {
            "needs_background": "light"
          }
        }
      ]
    },
    {
      "cell_type": "code",
      "source": [
        "## display reconstruction\n",
        "ax = plt.subplot(2, n, i + 1 + n)\n",
        "ax.set_title(\"Predicted Image\")\n",
        "plt.imshow(test_pred_y[i].reshape(H, W))\n",
        "plt.gray()\n",
        "ax.get_xaxis().set_visible(False)\n",
        "ax.get_yaxis().set_visible(False)\n",
        "plt.savefig(\"/content/deep_autoencoder.png\")"
      ],
      "metadata": {
        "colab": {
          "base_uri": "https://localhost:8080/",
          "height": 79
        },
        "id": "3wtNOl50Q5Kq",
        "outputId": "d9ca6e78-3334-4ea4-d380-89065cd49a3e"
      },
      "execution_count": 16,
      "outputs": [
        {
          "output_type": "display_data",
          "data": {
            "text/plain": [
              "<Figure size 432x288 with 1 Axes>"
            ],
            "image/png": "[encoded data removed]"
          },
          "metadata": {
            "needs_background": "light"
          }
        }
      ]
    },
    {
      "cell_type": "code",
      "source": [
        ""
      ],
      "metadata": {
        "id": "2t-RwFvlQ5M_"
      },
      "execution_count": null,
      "outputs": []
    }
  ]
}